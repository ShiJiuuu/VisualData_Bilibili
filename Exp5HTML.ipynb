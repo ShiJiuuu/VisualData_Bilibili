{
 "cells": [
  {
   "cell_type": "code",
   "execution_count": 2,
   "id": "f0a325b6-3ff7-4d6e-b5ae-add33f2dc817",
   "metadata": {},
   "outputs": [
    {
     "ename": "SyntaxError",
     "evalue": "invalid syntax (2118944506.py, line 10)",
     "output_type": "error",
     "traceback": [
      "  \u001b[36mCell\u001b[39m\u001b[36m \u001b[39m\u001b[32mIn[2]\u001b[39m\u001b[32m, line 10\u001b[39m\n\u001b[31m    \u001b[39m\u001b[31m.add_xaxis(years)\u001b[39m\n    ^\n\u001b[31mSyntaxError\u001b[39m\u001b[31m:\u001b[39m invalid syntax\n"
     ]
    }
   ],
   "source": [
    "from pyecharts.charts import Bar\n",
    "from pyecharts import options as opts\n",
    "from pyecharts.charts import Pie\n",
    "\n",
    "years = [\"2009\", \"2010\", \"2011\", \"2012\", \"2013\", \"2014\", \"2015\", \"2016\", \"2017\", \"2018\"]\n",
    "user_counts = [3095, 4245, 6673, 10701, 13642, 31368, 40949, 41776, 56213, 64143]\n",
    "\n",
    "bar = (\n",
    "    Bar(init_opts=opts.InitOpts(theme=\"ROMANTIC\"))\n",
    "    .add_xaxis(years)\n",
    "    .add_yaxis(\"注册人数\", user_counts)\n",
    "    .set_global_opts(\n",
    "        title_opts=opts.TitleOpts(title=\"虎扑社区用户注册时间分布\"),\n",
    "        xaxis_opts=opts.AxisOpts(name=\"注册时间（年）\"),\n",
    "        yaxis_opts=opts.AxisOpts(name=\"注册人数\"),\n",
    "    )\n",
    ")\n",
    "bar.render(\"用户注册分布柱形图.html\")\n",
    "\n",
    "gender_data = [(\"男性用户\", 4.5), (\"女性用户\", 95.5)]\n",
    "pie = (\n",
    "    Pie()\n",
    "    .add(\"\", gender_data)\n",
    "    .set_global_opts(\n",
    "        title_opts=opts.TitleOpts(title=\"虎扑社区男女用户比例\"),\n",
    "        legend_opts=opts.LegendOpts(orient=\"vertical\", pos_top=\"middle\", pos_right=\"10%\"),\n",
    "    )\n",
    "    .set_series_opts(\n",
    "        label_opts=opts.LabelOpts(formatter=\"{b}: {d}%\")\n",
    "    )\n",
    ")\n",
    "pie.render(\"男女用户比例图.html\")"
   ]
  },
  {
   "cell_type": "code",
   "execution_count": null,
   "id": "1ceaa973-216b-499c-9930-6eb7c70a7799",
   "metadata": {},
   "outputs": [],
   "source": []
  }
 ],
 "metadata": {
  "kernelspec": {
   "display_name": "Python 3 (ipykernel)",
   "language": "python",
   "name": "python3"
  },
  "language_info": {
   "codemirror_mode": {
    "name": "ipython",
    "version": 3
   },
   "file_extension": ".py",
   "mimetype": "text/x-python",
   "name": "python",
   "nbconvert_exporter": "python",
   "pygments_lexer": "ipython3",
   "version": "3.13.2"
  }
 },
 "nbformat": 4,
 "nbformat_minor": 5
}
